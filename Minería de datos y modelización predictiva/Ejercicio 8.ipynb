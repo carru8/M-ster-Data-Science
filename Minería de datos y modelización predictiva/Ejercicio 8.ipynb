{
 "cells": [
  {
   "cell_type": "code",
   "execution_count": 1,
   "metadata": {},
   "outputs": [
    {
     "name": "stdout",
     "output_type": "stream",
     "text": [
      "(CVXPY) Mar 27 12:15:57 AM: Encountered unexpected exception importing solver GLOP:\n",
      "RuntimeError('Unrecognized new version of ortools (9.9.3963). Expected < 9.8.0. Please open a feature request on cvxpy to enable support for this version.')\n",
      "(CVXPY) Mar 27 12:15:57 AM: Encountered unexpected exception importing solver PDLP:\n",
      "RuntimeError('Unrecognized new version of ortools (9.9.3963). Expected < 9.8.0. Please open a feature request on cvxpy to enable support for this version.')\n"
     ]
    }
   ],
   "source": [
    "import pandas as pd\n",
    "import numpy as np\n",
    "import matplotlib.pyplot as plt\n",
    "import seaborn as sns\n",
    "\n",
    "# Para el análisis descriptivo inicial de contraste de asociación importo el test Chi2 y el anova \n",
    "from scipy.stats import chi2_contingency\n",
    "from scipy.stats import f_oneway\n",
    "\n",
    "# Cargaríamos la librería scortecardpy si fuese estable (que no lo es)\n",
    "#import scorecardpy as sc\n",
    "\n",
    "# Librería para hacer la tramificación, agrupación y transformación WOE\n",
    "from optbinning import Scorecard, BinningProcess, OptimalBinning\n",
    "from optbinning.scorecard import plot_auc_roc, plot_cap, plot_ks\n",
    "\n",
    "\n",
    "# Scikit-learn para dividir la muestra y para estimar el modelo de regresión logística (sólo si no se quiere utilizar\n",
    "# la función optbinning.scorecard que ya lo incropora)\n",
    "import sklearn\n",
    "from sklearn.model_selection import train_test_split\n",
    "from sklearn.linear_model import LogisticRegression\n",
    "from sklearn.metrics import f1_score\n",
    "from sklearn.metrics import balanced_accuracy_score"
   ]
  },
  {
   "cell_type": "code",
   "execution_count": 2,
   "metadata": {},
   "outputs": [],
   "source": [
    "# Cargamos los datos \n",
    "dt=pd.read_excel('DatosPractica_Scoring.xlsx')"
   ]
  },
  {
   "cell_type": "code",
   "execution_count": 3,
   "metadata": {},
   "outputs": [
    {
     "name": "stdout",
     "output_type": "stream",
     "text": [
      "<class 'pandas.core.frame.DataFrame'>\n",
      "RangeIndex: 1319 entries, 0 to 1318\n",
      "Data columns (total 14 columns):\n",
      " #   Column    Non-Null Count  Dtype  \n",
      "---  ------    --------------  -----  \n",
      " 0   ID        1319 non-null   int64  \n",
      " 1   Cardhldr  1285 non-null   float64\n",
      " 2   default   994 non-null    float64\n",
      " 3   Age       1319 non-null   float64\n",
      " 4   Income    1319 non-null   float64\n",
      " 5   Exp_Inc   1319 non-null   float64\n",
      " 6   Avgexp    1319 non-null   float64\n",
      " 7   Ownrent   1319 non-null   int64  \n",
      " 8   Selfempl  1319 non-null   int64  \n",
      " 9   Depndt    1319 non-null   int64  \n",
      " 10  Inc_per   1319 non-null   float64\n",
      " 11  Cur_add   1319 non-null   int64  \n",
      " 12  Major     1319 non-null   int64  \n",
      " 13  Active    1319 non-null   int64  \n",
      "dtypes: float64(7), int64(7)\n",
      "memory usage: 144.4 KB\n"
     ]
    }
   ],
   "source": [
    "dt.info()"
   ]
  },
  {
   "cell_type": "code",
   "execution_count": 4,
   "metadata": {},
   "outputs": [
    {
     "name": "stdout",
     "output_type": "stream",
     "text": [
      "<class 'pandas.core.frame.DataFrame'>\n",
      "RangeIndex: 1319 entries, 0 to 1318\n",
      "Data columns (total 13 columns):\n",
      " #   Column    Non-Null Count  Dtype  \n",
      "---  ------    --------------  -----  \n",
      " 0   Cardhldr  1285 non-null   float64\n",
      " 1   default   994 non-null    float64\n",
      " 2   Age       1319 non-null   float64\n",
      " 3   Income    1319 non-null   float64\n",
      " 4   Exp_Inc   1319 non-null   float64\n",
      " 5   Avgexp    1319 non-null   float64\n",
      " 6   Ownrent   1319 non-null   int64  \n",
      " 7   Selfempl  1319 non-null   int64  \n",
      " 8   Depndt    1319 non-null   int64  \n",
      " 9   Inc_per   1319 non-null   float64\n",
      " 10  Cur_add   1319 non-null   int64  \n",
      " 11  Major     1319 non-null   int64  \n",
      " 12  Active    1319 non-null   int64  \n",
      "dtypes: float64(7), int64(6)\n",
      "memory usage: 134.1 KB\n"
     ]
    }
   ],
   "source": [
    "dt.drop(labels='ID',inplace=True, axis=1)\n",
    "\n",
    "dt.info()"
   ]
  },
  {
   "cell_type": "code",
   "execution_count": 110,
   "metadata": {},
   "outputs": [],
   "source": [
    "dt_acept = dt.copy()\n",
    "dt_acept = dt_acept[dt_acept['Cardhldr'] == 1]\n",
    "\n"
   ]
  },
  {
   "cell_type": "code",
   "execution_count": 111,
   "metadata": {},
   "outputs": [
    {
     "data": {
      "text/plain": [
       "array([ 2.5,  5.5,  6.5,  9.5, 11.5, 18.5])"
      ]
     },
     "execution_count": 111,
     "metadata": {},
     "output_type": "execute_result"
    }
   ],
   "source": [
    "variable=\"Active\"\n",
    "X=dt_acept[variable].values\n",
    "Y=dt_acept['default'].values\n",
    "\n",
    "optb = OptimalBinning(name=variable, dtype=\"numerical\", solver=\"cp\")\n",
    "\n",
    "optb.fit(X, Y)\n",
    "optb.splits"
   ]
  },
  {
   "cell_type": "code",
   "execution_count": 112,
   "metadata": {},
   "outputs": [
    {
     "data": {
      "text/html": [
       "<div>\n",
       "<style scoped>\n",
       "    .dataframe tbody tr th:only-of-type {\n",
       "        vertical-align: middle;\n",
       "    }\n",
       "\n",
       "    .dataframe tbody tr th {\n",
       "        vertical-align: top;\n",
       "    }\n",
       "\n",
       "    .dataframe thead th {\n",
       "        text-align: right;\n",
       "    }\n",
       "</style>\n",
       "<table border=\"1\" class=\"dataframe\">\n",
       "  <thead>\n",
       "    <tr style=\"text-align: right;\">\n",
       "      <th></th>\n",
       "      <th>Bin</th>\n",
       "      <th>Count</th>\n",
       "      <th>Count (%)</th>\n",
       "      <th>Non-event</th>\n",
       "      <th>Event</th>\n",
       "      <th>Event rate</th>\n",
       "      <th>WoE</th>\n",
       "      <th>IV</th>\n",
       "      <th>JS</th>\n",
       "    </tr>\n",
       "  </thead>\n",
       "  <tbody>\n",
       "    <tr>\n",
       "      <th>0</th>\n",
       "      <td>(-inf, 2.50)</td>\n",
       "      <td>259</td>\n",
       "      <td>0.260563</td>\n",
       "      <td>256</td>\n",
       "      <td>3</td>\n",
       "      <td>0.011583</td>\n",
       "      <td>2.299735</td>\n",
       "      <td>0.595158</td>\n",
       "      <td>0.061393</td>\n",
       "    </tr>\n",
       "    <tr>\n",
       "      <th>1</th>\n",
       "      <td>[2.50, 5.50)</td>\n",
       "      <td>203</td>\n",
       "      <td>0.204225</td>\n",
       "      <td>184</td>\n",
       "      <td>19</td>\n",
       "      <td>0.093596</td>\n",
       "      <td>0.123666</td>\n",
       "      <td>0.002974</td>\n",
       "      <td>0.000372</td>\n",
       "    </tr>\n",
       "    <tr>\n",
       "      <th>2</th>\n",
       "      <td>[5.50, 6.50)</td>\n",
       "      <td>58</td>\n",
       "      <td>0.058350</td>\n",
       "      <td>52</td>\n",
       "      <td>6</td>\n",
       "      <td>0.103448</td>\n",
       "      <td>0.012654</td>\n",
       "      <td>0.000009</td>\n",
       "      <td>0.000001</td>\n",
       "    </tr>\n",
       "    <tr>\n",
       "      <th>3</th>\n",
       "      <td>[6.50, 9.50)</td>\n",
       "      <td>168</td>\n",
       "      <td>0.169014</td>\n",
       "      <td>149</td>\n",
       "      <td>19</td>\n",
       "      <td>0.113095</td>\n",
       "      <td>-0.087323</td>\n",
       "      <td>0.001334</td>\n",
       "      <td>0.000167</td>\n",
       "    </tr>\n",
       "    <tr>\n",
       "      <th>4</th>\n",
       "      <td>[9.50, 11.50)</td>\n",
       "      <td>83</td>\n",
       "      <td>0.083501</td>\n",
       "      <td>72</td>\n",
       "      <td>11</td>\n",
       "      <td>0.132530</td>\n",
       "      <td>-0.26806</td>\n",
       "      <td>0.006667</td>\n",
       "      <td>0.000831</td>\n",
       "    </tr>\n",
       "    <tr>\n",
       "      <th>5</th>\n",
       "      <td>[11.50, 18.50)</td>\n",
       "      <td>168</td>\n",
       "      <td>0.169014</td>\n",
       "      <td>135</td>\n",
       "      <td>33</td>\n",
       "      <td>0.196429</td>\n",
       "      <td>-0.738063</td>\n",
       "      <td>0.122240</td>\n",
       "      <td>0.014942</td>\n",
       "    </tr>\n",
       "    <tr>\n",
       "      <th>6</th>\n",
       "      <td>[18.50, inf)</td>\n",
       "      <td>55</td>\n",
       "      <td>0.055332</td>\n",
       "      <td>42</td>\n",
       "      <td>13</td>\n",
       "      <td>0.236364</td>\n",
       "      <td>-0.97411</td>\n",
       "      <td>0.075795</td>\n",
       "      <td>0.009117</td>\n",
       "    </tr>\n",
       "    <tr>\n",
       "      <th>7</th>\n",
       "      <td>Special</td>\n",
       "      <td>0</td>\n",
       "      <td>0.000000</td>\n",
       "      <td>0</td>\n",
       "      <td>0</td>\n",
       "      <td>0.000000</td>\n",
       "      <td>0.0</td>\n",
       "      <td>0.000000</td>\n",
       "      <td>0.000000</td>\n",
       "    </tr>\n",
       "    <tr>\n",
       "      <th>8</th>\n",
       "      <td>Missing</td>\n",
       "      <td>0</td>\n",
       "      <td>0.000000</td>\n",
       "      <td>0</td>\n",
       "      <td>0</td>\n",
       "      <td>0.000000</td>\n",
       "      <td>0.0</td>\n",
       "      <td>0.000000</td>\n",
       "      <td>0.000000</td>\n",
       "    </tr>\n",
       "    <tr>\n",
       "      <th>Totals</th>\n",
       "      <td></td>\n",
       "      <td>994</td>\n",
       "      <td>1.000000</td>\n",
       "      <td>890</td>\n",
       "      <td>104</td>\n",
       "      <td>0.104628</td>\n",
       "      <td></td>\n",
       "      <td>0.804177</td>\n",
       "      <td>0.086823</td>\n",
       "    </tr>\n",
       "  </tbody>\n",
       "</table>\n",
       "</div>"
      ],
      "text/plain": [
       "                   Bin  Count  Count (%)  Non-event  Event  Event rate  \\\n",
       "0         (-inf, 2.50)    259   0.260563        256      3    0.011583   \n",
       "1         [2.50, 5.50)    203   0.204225        184     19    0.093596   \n",
       "2         [5.50, 6.50)     58   0.058350         52      6    0.103448   \n",
       "3         [6.50, 9.50)    168   0.169014        149     19    0.113095   \n",
       "4        [9.50, 11.50)     83   0.083501         72     11    0.132530   \n",
       "5       [11.50, 18.50)    168   0.169014        135     33    0.196429   \n",
       "6         [18.50, inf)     55   0.055332         42     13    0.236364   \n",
       "7              Special      0   0.000000          0      0    0.000000   \n",
       "8              Missing      0   0.000000          0      0    0.000000   \n",
       "Totals                    994   1.000000        890    104    0.104628   \n",
       "\n",
       "             WoE        IV        JS  \n",
       "0       2.299735  0.595158  0.061393  \n",
       "1       0.123666  0.002974  0.000372  \n",
       "2       0.012654  0.000009  0.000001  \n",
       "3      -0.087323  0.001334  0.000167  \n",
       "4       -0.26806  0.006667  0.000831  \n",
       "5      -0.738063  0.122240  0.014942  \n",
       "6       -0.97411  0.075795  0.009117  \n",
       "7            0.0  0.000000  0.000000  \n",
       "8            0.0  0.000000  0.000000  \n",
       "Totals            0.804177  0.086823  "
      ]
     },
     "execution_count": 112,
     "metadata": {},
     "output_type": "execute_result"
    }
   ],
   "source": [
    "binning_table = optb.binning_table\n",
    "binning_table.build()"
   ]
  },
  {
   "cell_type": "code",
   "execution_count": 113,
   "metadata": {},
   "outputs": [
    {
     "name": "stdout",
     "output_type": "stream",
     "text": [
      "IV=  0.804\n",
      "Gini=  0.406\n"
     ]
    }
   ],
   "source": [
    "print(\"IV= \", binning_table.iv.round(3))\n",
    "print(\"Gini= \", binning_table.gini.round(3))"
   ]
  }
 ],
 "metadata": {
  "kernelspec": {
   "display_name": "Python 3 (ipykernel)",
   "language": "python",
   "name": "python3"
  },
  "language_info": {
   "codemirror_mode": {
    "name": "ipython",
    "version": 3
   },
   "file_extension": ".py",
   "mimetype": "text/x-python",
   "name": "python",
   "nbconvert_exporter": "python",
   "pygments_lexer": "ipython3",
   "version": "3.11.8"
  }
 },
 "nbformat": 4,
 "nbformat_minor": 4
}
