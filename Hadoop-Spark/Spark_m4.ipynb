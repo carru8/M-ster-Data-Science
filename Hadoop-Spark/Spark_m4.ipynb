{
 "cells": [
  {
   "cell_type": "markdown",
   "metadata": {
    "application/vnd.databricks.v1+cell": {
     "cellMetadata": {
      "byteLimit": 2048000,
      "rowLimit": 10000
     },
     "inputWidgets": {},
     "nuid": "4a4ff58b-5c0c-4339-979a-f91cbed79b89",
     "showTitle": false,
     "title": ""
    },
    "deletable": false,
    "editable": false,
    "nbgrader": {
     "cell_type": "markdown",
     "checksum": "7f949b17b8f2814baa87c674deefe4d3",
     "grade": false,
     "grade_id": "cell-f8987996be9f1238",
     "locked": true,
     "schema_version": 3,
     "solution": false,
     "task": false
    }
   },
   "source": [
    "# La organización Kiva de préstamos entre particulares\n",
    "\n",
    "### Disponible en Kaggle en:\n",
    "https://www.kaggle.com/kiva/data-science-for-good-kiva-crowdfunding/version/5\n",
    "\n",
    "El conjunto de datos elegido recoge estadísticas de Kiva entre 2014 y 2017. Kiva abre un nuevo mundo de oportunidades para los menos favorecidos y nos permite a cualquiera de nosotros convertirnos en superhéroes. Se trata de una organización sin ánimo de lucro que ofrece pequeños préstamos para ayudar a las comunidades desatendidas que no tienen acceso a los servicios bancarios normales. Proporciona una plataforma y une a personas que estén dispuestas a prestar, un mínimo de 25 dólares, y prestatarios que expongan sus necesidades, la finalidad del dinero y las condiciones de devolución,  porque no es una donación, es un préstamo.\n",
    "\n",
    "Al crear este servicio, Kiva habilita una solución que desbloquea capital para todos y mantiene un interés financiero muy bajo para los prestatarios. Por otro lado, permite que cualquiera sea parte de la solución y brinda a las personas un amplio abanico de opciones para elegir quién, dónde, cuánto y para qué sector desea ayudar."
   ]
  },
  {
   "cell_type": "markdown",
   "metadata": {
    "application/vnd.databricks.v1+cell": {
     "cellMetadata": {
      "byteLimit": 2048000,
      "rowLimit": 10000
     },
     "inputWidgets": {},
     "nuid": "af54019c-8818-440f-912d-46f6a38662e8",
     "showTitle": false,
     "title": ""
    },
    "deletable": false,
    "editable": false,
    "nbgrader": {
     "cell_type": "markdown",
     "checksum": "9a6b4dc108ddf890c659e33701965428",
     "grade": false,
     "grade_id": "cell-f74d7bfd01811789",
     "locked": true,
     "schema_version": 3,
     "solution": false,
     "task": false
    }
   },
   "source": [
    "### Variables y significado"
   ]
  },
  {
   "cell_type": "markdown",
   "metadata": {
    "application/vnd.databricks.v1+cell": {
     "cellMetadata": {
      "byteLimit": 2048000,
      "rowLimit": 10000
     },
     "inputWidgets": {},
     "nuid": "22c2cd19-352c-437f-be42-1fe63f4c0e0d",
     "showTitle": false,
     "title": ""
    },
    "deletable": false,
    "editable": false,
    "nbgrader": {
     "cell_type": "markdown",
     "checksum": "ea569f4edabc5d7306f8ee2b35adc403",
     "grade": false,
     "grade_id": "cell-9cfb34982bd4eb04",
     "locked": true,
     "schema_version": 3,
     "solution": false,
     "task": false
    }
   },
   "source": [
    "Las variables utilizadas para describir cada préstamo son:\n",
    "\n",
    "\n",
    "* id: ID único para préstamo\n",
    "* funding_amount: la cantidad desembolsada por Kiva al agente de campo (USD)\n",
    "* loan_amount: la cantidad desembolsada por el agente de campo al prestatario (USD)\n",
    "* country_code: código ISO del país en el que se desembolsó el préstamo\n",
    "* activity: Categoría más granular\n",
    "* sector: Categoría de alto nivel\n",
    "* use: Uso exacto del monto del préstamo\n",
    "* country: Nombre completo del país en el que se desembolsó el préstamo\n",
    "* region: Nombre completo de la región dentro del país\n",
    "* currency: La moneda en que se desembolsó el préstamo\n",
    "* partner_id: ID de la organización asociada\n",
    "* posted_time: Hora a la que el agente de campo (intermediario) publica el préstamo en Kiva\n",
    "* disbursed_time: Hora en que el agente de campo (intermediario) entrega el préstamo al beneficiario\n",
    "* funded_time: El momento en que el préstamo publicado en Kiva es financiado por los prestamistas por completo\n",
    "* term_in_months: La duración por la cual el préstamo se desembolsó en meses\n",
    "* lender_count: El número total de prestamistas que contribuyeron a este préstamo.\n",
    "* tags: Etiquetas para describir el caso específico\n",
    "* borrower_genders: letras M, F separadas por comas, donde cada instancia representa un solo hombre / mujer en el grupo\n",
    "* repayment_interval: Estado de pago\n",
    "* date: fecha en la base de datos de esta operación."
   ]
  },
  {
   "cell_type": "markdown",
   "metadata": {
    "application/vnd.databricks.v1+cell": {
     "cellMetadata": {
      "byteLimit": 2048000,
      "rowLimit": 10000
     },
     "inputWidgets": {},
     "nuid": "55b22c6d-c1a9-425b-a3f5-a717a45d6291",
     "showTitle": false,
     "title": ""
    }
   },
   "source": [
    "**Nombre completo del alumno:**  NAIRA CARRUCCIO VILLADA"
   ]
  },
  {
   "cell_type": "markdown",
   "metadata": {
    "application/vnd.databricks.v1+cell": {
     "cellMetadata": {
      "byteLimit": 2048000,
      "rowLimit": 10000
     },
     "inputWidgets": {},
     "nuid": "04eda123-7931-4472-9b15-14ec9cef01dc",
     "showTitle": false,
     "title": ""
    },
    "deletable": false,
    "editable": false,
    "nbgrader": {
     "cell_type": "markdown",
     "checksum": "3821f9090a3fe8312fb5f67097a7a9d2",
     "grade": false,
     "grade_id": "cell-b4f9c37a2b92d2e6",
     "locked": true,
     "schema_version": 3,
     "solution": false,
     "task": false
    }
   },
   "source": [
    "# INSTRUCCIONES\n",
    "\n",
    "En cada celda debes responder a la pregunta formulada, asegurándote de que el resultado queda guardado en la(s) variable(s) que por defecto vienen inicializadas a `None`. No se necesita usar variables intermedias, pero puedes hacerlo siempre que el resultado final del cálculo quede guardado exactamente en la variable que venía inicializada a None (debes reemplazar None por la secuencia de transformaciones necesarias, pero nunca cambiar el nombre de esa variable). \n",
    "\n",
    "**No olvides borrar la línea *raise NotImplementedError()* de cada celda cuando hayas completado la solución de esa celda y quieras probarla**.\n",
    "\n",
    "Después de cada celda evaluable verás una celda con código. Ejecútala (no modifiques su código) y te dirá si tu solución es correcta o no. En caso de ser correcta, se ejecutará correctamente y no mostrará nada, pero si no lo es mostrará un error. Además de esas pruebas, se realizarán algunas más (ocultas) a la hora de puntuar el ejercicio, pero evaluar dicha celda es un indicador bastante fiable acerca de si realmente has implementado la solución correcta o no. Asegúrate de que, al menos, todas las celdas indican que el código es correcto antes de enviar el notebook terminado.\n",
    "\n",
    "**Nunca se debe redondear ninguna cantidad si no lo pide explícitamente el enunciado**\n",
    "\n",
    "### Cada solución debe escribirse obligatoriamente en la celda habilitada para ello. Cualquier celda adicional que se haya creado durante el desarrollo deberá ser eliminada.\n",
    "\n",
    "Si necesitas crear celdas auxiliares durante el desarrollo, puedes hacerlo pero debes asegurarte de borrarlas antes de entregar el notebook."
   ]
  },
  {
   "cell_type": "markdown",
   "metadata": {
    "application/vnd.databricks.v1+cell": {
     "cellMetadata": {
      "byteLimit": 2048000,
      "rowLimit": 10000
     },
     "inputWidgets": {},
     "nuid": "1b009c76-e01d-46fb-8da9-d9419cc7987e",
     "showTitle": false,
     "title": ""
    },
    "deletable": false,
    "editable": false,
    "nbgrader": {
     "cell_type": "markdown",
     "checksum": "9d51114ba5e01cc1f49401e7ec3fec2e",
     "grade": false,
     "grade_id": "cell-69ec0993eeaff3ac",
     "locked": true,
     "schema_version": 3,
     "solution": false,
     "task": false
    }
   },
   "source": [
    "### Sobre el dataset kiva_loans.csv se pide:"
   ]
  },
  {
   "cell_type": "markdown",
   "metadata": {
    "application/vnd.databricks.v1+cell": {
     "cellMetadata": {
      "byteLimit": 2048000,
      "rowLimit": 10000
     },
     "inputWidgets": {},
     "nuid": "37dca86a-85ad-4b88-a1fa-ba7588a0483f",
     "showTitle": false,
     "title": ""
    }
   },
   "source": [
    "**(1 punto)** Ejercicio 1\n",
    "\n",
    "* Leerlo **sin intentar** que Spark infiera el tipo de dato de cada columna\n",
    "* Puesto que existen columnas que contienen una coma enmedio del valor, en esos casos los valores vienen entre comillas dobles. Spark ya contempla esta posibilidad y puede leerlas adecuadamente **si al leer le indicamos las siguientes opciones adicionales** además de las que ya sueles usar: `.option(\"quote\", \"\\\"\").option(\"escape\", \"\\\"\")`.\n",
    "* Asegúrate de que las **filas que no tienen el formato correcto sean descartadas**, indicando también la opción `mode` con el valor `DROPMALFORMED` como vimos en clase.\n",
    "* Crear un nuevo DF `kivaRawNoNullDF` en el que se hayan eliminado todas las filas que tengan algún valor nulo en cualquier columna **excepto en la columna tags**, que no será relevante para el análisis y por tanto podemos ignorar sus valores nulos y mantener dichas filas."
   ]
  },
  {
   "cell_type": "code",
   "execution_count": 0,
   "metadata": {
    "application/vnd.databricks.v1+cell": {
     "cellMetadata": {
      "byteLimit": 2048000,
      "rowLimit": 10000
     },
     "inputWidgets": {},
     "nuid": "765ed31e-5068-4c39-aa4a-0c5357c8aeed",
     "showTitle": false,
     "title": ""
    },
    "deletable": false,
    "nbgrader": {
     "cell_type": "code",
     "checksum": "5dd7b5af2400b59ee2155e84fbd2bc1b",
     "grade": false,
     "grade_id": "read_csv",
     "locked": false,
     "schema_version": 3,
     "solution": true,
     "task": false
    }
   },
   "outputs": [],
   "source": [
    "# LÍNEA EVALUABLE, NO RENOMBRAR LAS VARIABLES\n",
    "# YOUR CODE HERE\n",
    "kivaRawDF = spark.read.option(\"header\", \"true\")\\\n",
    "                      .option(\"quote\", \"\\\"\")\\\n",
    "                      .option(\"escape\", \"\\\"\")\\\n",
    "                      .option(\"mode\", \"DROPMALFORMED\")\\\n",
    "                      .csv(\"abfss://datos@masterncv001sta.dfs.core.windows.net/kiva_loans.csv\")\n",
    "columnasExceptoTags = kivaRawDF.columns\n",
    "columnasExceptoTags.remove(\"tags\")\n",
    "kivaRawNoNullDF = kivaRawDF.na.drop(subset = columnasExceptoTags) #Elimnamos los valore nulos excepto en la columna tags. \n",
    "\n"
   ]
  },
  {
   "cell_type": "code",
   "execution_count": 0,
   "metadata": {
    "application/vnd.databricks.v1+cell": {
     "cellMetadata": {
      "byteLimit": 2048000,
      "rowLimit": 10000
     },
     "inputWidgets": {},
     "nuid": "7a71fc11-5686-434b-9ec9-83f52985560f",
     "showTitle": false,
     "title": ""
    },
    "deletable": false,
    "editable": false,
    "nbgrader": {
     "cell_type": "code",
     "checksum": "188c34c4f8b30b2afe579969e84c4636",
     "grade": true,
     "grade_id": "read_csv_test",
     "locked": true,
     "points": 1,
     "schema_version": 3,
     "solution": false,
     "task": false
    }
   },
   "outputs": [],
   "source": [
    "from pyspark.sql.types import DoubleType\n",
    "assert(kivaRawNoNullDF.count() == 574115)"
   ]
  },
  {
   "cell_type": "markdown",
   "metadata": {
    "application/vnd.databricks.v1+cell": {
     "cellMetadata": {
      "byteLimit": 2048000,
      "rowLimit": 10000
     },
     "inputWidgets": {},
     "nuid": "0c2ef046-0530-4677-9a5b-f36e30ac47b2",
     "showTitle": false,
     "title": ""
    },
    "deletable": false,
    "editable": false,
    "nbgrader": {
     "cell_type": "markdown",
     "checksum": "2f4645aff4a4c236ce8ea3c628630e46",
     "grade": false,
     "grade_id": "cell-b90f5b934eda250e",
     "locked": true,
     "schema_version": 3,
     "solution": false,
     "task": false
    }
   },
   "source": [
    "**(1 punto)** Ejercicio 2\n",
    "\n",
    "* Las columnas `posted_time`, `disbursed_time` y `funded_time` son en realidad instantes de tiempo que Spark debería procesar como timestamp. Partiendo de `kivaRawNoNullDF`, reemplaza **ambas columnas** por su versión convertida a timestamp, utilizando `withColumn` con el mismo nombre de cada columna, y donde el nuevo valor de la columna viene dado por el siguiente código:\n",
    "\n",
    "        F.from_unixtime(F.unix_timestamp('nombreColumna', 'yyyy-MM-dd HH:mm:ssXXX')).cast(\"timestamp\"))\n",
    "\n",
    "* Además, convierte a `DoubleType` la columna `loan_amount` y a `IntegerType` la columna `term_in_months`.\n",
    "\n",
    "* El DF resultante de todas estas operaciones debe quedar almacenado en la variable `kivaDF`, **cacheado**.\n"
   ]
  },
  {
   "cell_type": "code",
   "execution_count": 0,
   "metadata": {
    "application/vnd.databricks.v1+cell": {
     "cellMetadata": {
      "byteLimit": 2048000,
      "rowLimit": 10000
     },
     "inputWidgets": {},
     "nuid": "c50d724a-854d-49aa-8812-d244de5f9f49",
     "showTitle": false,
     "title": ""
    },
    "deletable": false,
    "nbgrader": {
     "cell_type": "code",
     "checksum": "ca99506697f9a967d82bac2f35307d4d",
     "grade": false,
     "grade_id": "convert_timestamp",
     "locked": false,
     "schema_version": 3,
     "solution": true,
     "task": false
    }
   },
   "outputs": [],
   "source": [
    "# No olvides los imports que necesites...\n",
    "from pyspark.sql import types as T\n",
    "from pyspark.sql import functions as F\n",
    "# LÍNEAS EVALUABLES, NO RENOMBRAR LAS VARIABLES\n",
    "# YOUR CODE HERE\n",
    "kivaDF = kivaRawNoNullDF.withColumn(\"posted_time\",\n",
    "                                     F.from_unixtime(F.unix_timestamp('posted_time', 'yyyy-MM-dd HH:mm:ssXXX')).cast(\"timestamp\"))\\\n",
    "                                         .withColumn(\"disbursed_time\", F.from_unixtime(F.unix_timestamp('disbursed_time', 'yyyy-MM-dd HH:mm:ssXXX')).cast(\"timestamp\"))\\\n",
    "                                         .withColumn(\"funded_time\", F.from_unixtime(F.unix_timestamp('funded_time', 'yyyy-MM-dd HH:mm:ssXXX')).cast(\"timestamp\"))\\\n",
    "                                         .withColumn(\"loan_amount\", F.col(\"loan_amount\").cast(T.DoubleType()))\\\n",
    "                                         .withColumn(\"term_in_months\",F.col(\"term_in_months\").cast(T.IntegerType()))\\\n",
    "                                         .cache()\n"
   ]
  },
  {
   "cell_type": "code",
   "execution_count": 0,
   "metadata": {
    "application/vnd.databricks.v1+cell": {
     "cellMetadata": {
      "byteLimit": 2048000,
      "rowLimit": 10000
     },
     "inputWidgets": {},
     "nuid": "d55aadc0-3c60-41a5-9942-d76433a56ad2",
     "showTitle": false,
     "title": ""
    },
    "deletable": false,
    "editable": false,
    "nbgrader": {
     "cell_type": "code",
     "checksum": "4a659b870cc3a2b7d239dd7bbdd54eea",
     "grade": true,
     "grade_id": "convert_timestamp_tests",
     "locked": true,
     "points": 1,
     "schema_version": 3,
     "solution": false,
     "task": false
    }
   },
   "outputs": [],
   "source": [
    "from pyspark.sql import functions as F\n",
    "typesDict = dict(kivaDF.dtypes)\n",
    "assert(typesDict[\"posted_time\"] == \"timestamp\") \n",
    "assert(typesDict[\"disbursed_time\"] == \"timestamp\") \n",
    "assert(typesDict[\"loan_amount\"] == \"double\") \n",
    "assert(typesDict[\"term_in_months\"] == \"int\")\n",
    "cnt_cond = lambda cond: F.sum(F.when(cond, 1).otherwise(0))\n",
    "nullsRow = kivaDF.select(cnt_cond(F.col(\"posted_time\").isNull()).alias(\"posted_nulls\"),\n",
    "              cnt_cond(F.col(\"disbursed_time\").isNull()).alias(\"disbursed_nulls\")).head()\n",
    "assert(nullsRow.posted_nulls == 0)\n",
    "assert(nullsRow.disbursed_nulls == 0)"
   ]
  },
  {
   "cell_type": "markdown",
   "metadata": {
    "application/vnd.databricks.v1+cell": {
     "cellMetadata": {
      "byteLimit": 2048000,
      "rowLimit": 10000
     },
     "inputWidgets": {},
     "nuid": "606330d1-d6f3-4a17-8acc-99cbd44334ac",
     "showTitle": false,
     "title": ""
    },
    "deletable": false,
    "editable": false,
    "nbgrader": {
     "cell_type": "markdown",
     "checksum": "1e93f385f93838abff6492567725cfba",
     "grade": false,
     "grade_id": "cell-fc88821f19453a51",
     "locked": true,
     "schema_version": 3,
     "solution": false,
     "task": false
    }
   },
   "source": [
    "**(2 puntos)** Ejercicio 3\n",
    "\n",
    "Partiendo de `kivaDF`:\n",
    "\n",
    "* Primero, añade una nueva columna `dias_desembolso` que contenga el número de días que han pasado entre la fecha en que los prestamistas aceptaron financiar un proyecto, y la fecha en que el agente de campo entregó los fondos al beneficiario. Para ello, utiliza `withColumn` en combinación con la función `F.datediff(\"colFuturo\", \"colPasado\")`\n",
    "* De manera análoga, añade otra nueva columna `dias_aceptacion` que contenga el número de días entre el anuncio de la necesidad de préstamo y la aceptación de financiarlo por parte de algún prestamista.\n",
    "* Reemplazar la columna `sector` por otra en la que se hayan traducido las categorías \"Education\" por \"Educacion\" (sin tilde para evitar posibles problemas) y \"Agriculture\" por \"Agricultura\", dejando como están el resto de categorías. **La sustitución no debe tener más que tres casos**: uno para cada categoría que vamos a reemplazar, y un tercero para el resto de categorías, que deben quedarse como estaban.\n",
    "* El resultado debe quedar guardado en la variable `kivaTiemposDF`."
   ]
  },
  {
   "cell_type": "code",
   "execution_count": 0,
   "metadata": {
    "application/vnd.databricks.v1+cell": {
     "cellMetadata": {
      "byteLimit": 2048000,
      "rowLimit": 10000
     },
     "inputWidgets": {},
     "nuid": "182c0c9c-4044-4d16-a499-a2bae6ec1d25",
     "showTitle": false,
     "title": ""
    },
    "deletable": false,
    "nbgrader": {
     "cell_type": "code",
     "checksum": "5ca4098e1a7f6a6f74ba37e09dc7fafe",
     "grade": false,
     "grade_id": "aniade_tiempos",
     "locked": false,
     "schema_version": 3,
     "solution": true,
     "task": false
    }
   },
   "outputs": [],
   "source": [
    "# LÍNEA EVALUABLE, NO RENOMBRAR VARIABLES\n",
    "# imports......\n",
    "from pyspark.sql import functions as F\n",
    "# YOUR CODE HERE\n",
    "\n",
    "kivaTiemposDF = kivaDF.withColumn(\"dias_desembolso\",\n",
    "                                  F.datediff(\"disbursed_time\", \"funded_time\"))\\\n",
    "                                      .withColumn(\"dias_aceptacion\",F.datediff(\"funded_time\", \"posted_time\"))\\\n",
    "                                      .withColumn(\"sector\",\n",
    "                                                   F.when(F.col(\"sector\") == \"Agriculture\",\"Agricultura\")\\\n",
    "                                                    .when(F.col(\"sector\") == \"Education\",\"Educacion\")\\\n",
    "                                                    .otherwise(F.col(\"sector\"))) \n"
   ]
  },
  {
   "cell_type": "code",
   "execution_count": 0,
   "metadata": {
    "application/vnd.databricks.v1+cell": {
     "cellMetadata": {
      "byteLimit": 2048000,
      "rowLimit": 10000
     },
     "inputWidgets": {},
     "nuid": "0766fca4-7053-439d-a493-35bce2859ded",
     "showTitle": false,
     "title": ""
    },
    "deletable": false,
    "editable": false,
    "nbgrader": {
     "cell_type": "code",
     "checksum": "dcadcc48648f84d47868016a5a1b2176",
     "grade": true,
     "grade_id": "aniade_tiempos_test",
     "locked": true,
     "points": 2,
     "schema_version": 3,
     "solution": false,
     "task": false
    }
   },
   "outputs": [],
   "source": [
    "assert(kivaTiemposDF.where(\"sector == 'Agricultura'\").count() == 157003)\n",
    "assert(kivaTiemposDF.where(\"sector == 'Educacion'\").count() == 28417)\n",
    "# Comprobamos que las 13 restantes se mantienen sin cambios\n",
    "assert(kivaTiemposDF.groupBy(\"sector\").count().join(kivaDF.groupBy(\"sector\").count(), [\"sector\", \"count\"]).count() == 13)"
   ]
  },
  {
   "cell_type": "markdown",
   "metadata": {
    "application/vnd.databricks.v1+cell": {
     "cellMetadata": {
      "byteLimit": 2048000,
      "rowLimit": 10000
     },
     "inputWidgets": {},
     "nuid": "b40d499d-dac7-4025-a730-5d4cb0593815",
     "showTitle": false,
     "title": ""
    },
    "deletable": false,
    "editable": false,
    "nbgrader": {
     "cell_type": "markdown",
     "checksum": "79185ceef173a0104b5f923e4bde05a0",
     "grade": false,
     "grade_id": "cell-a71a6b17b1e0d613",
     "locked": true,
     "schema_version": 3,
     "solution": false,
     "task": false
    }
   },
   "source": [
    "**(3 puntos)** Ejercicio 4\n",
    "\n",
    "Partiendo de `kivaTiemposDF`, crear un nuevo DataFrame llamado `kivaAgrupadoDF` que tenga:\n",
    "\n",
    "* Tantas filas como **países (`country`; no usar el código de país)**, y tantas columnas como **sectores** (cada una llamada como el sector) más una (la columna del país, que debe aparecer en primer lugar). En cada celda deberá ir el número **medio (redondeado a 2 cifras decimales)** de días transcurridos en ese país y sector *entre la fecha en que se anuncia la necesidad de préstamo y la fecha en la que un prestamista acepta financiarlo*. Esta columna ha sido calculada en la celda precedente.\n",
    "* Después de esto, añadir una columna adicional `transcurrido_global` con el número **medio (redondeado a 2 cifras decimales) de días transcurridos en cada país** entre ambas fechas *sin tener en cuenta el sector*. Cada fila tendrá la media de las 15 columnas del apartado anterior.\n",
    "* Por último, ordenar el DF resultante **descendentemente** en base al tiempo medio global, `transcurrido_global`. El DF resultado de la ordenación debe ser almacenado en la variable `kivaAgrupadoDF`. \n",
    "\n",
    "PISTA: utiliza el método `pivot` con el sector para el primer apartado, envolviendo a la función de agregación con la función `F.round`, es decir, `F.round(F.funcionAgregacion(....), 2)`, y `withColumn` con una operación aritmética entre columnas en el segundo. **No debe utilizarse la función `when`** ya que Spark es capaz de hacer directamente aritmética entre objetos columna. La operación aritmética también debe estar envuelta por round: `F.round(op. aritmética entre objetos columna, 2)`."
   ]
  },
  {
   "cell_type": "code",
   "execution_count": 0,
   "metadata": {
    "application/vnd.databricks.v1+cell": {
     "cellMetadata": {
      "byteLimit": 2048000,
      "rowLimit": 10000
     },
     "inputWidgets": {},
     "nuid": "40c1c580-03e1-4e1a-8f63-e5b911ffbafb",
     "showTitle": false,
     "title": ""
    },
    "deletable": false,
    "nbgrader": {
     "cell_type": "code",
     "checksum": "396a2289c6c4fa8c5de5540783d27942",
     "grade": false,
     "grade_id": "tiempos_medios",
     "locked": false,
     "schema_version": 3,
     "solution": true,
     "task": false
    }
   },
   "outputs": [],
   "source": [
    "# LÍNEA EVALUABLE, NO RENOMBRAR VARIABLES\n",
    "# YOUR CODE HERE\n",
    "\n",
    "kivaAgrupadoDF = kivaTiemposDF.groupBy(\"country\")\\\n",
    "                              .pivot(\"sector\")\\\n",
    "                              .agg(F.round(F.mean(F.col(\"dias_aceptacion\")), 2))\\\n",
    "                              .withColumn(\"transcurrido_global\",\n",
    "                                          F.round((sum([F.col(sector) for sector in [\"Agricultura\", \"Arts\", \n",
    "                                                                                     \"Clothing\",\n",
    "                                                                                     \"Construction\",\"Educacion\",\"Entertainment\",\"Food\",\"Health\",\"Housing\", \"Manufacturing\",\"Personal Use\",\"Retail\",\"Services\",\"Transportation\",\"Wholesale\"]])/15),2))\\\n",
    "                             .sort(F.desc(\"transcurrido_global\"))                            "
   ]
  },
  {
   "cell_type": "code",
   "execution_count": 0,
   "metadata": {
    "application/vnd.databricks.v1+cell": {
     "cellMetadata": {
      "byteLimit": 2048000,
      "rowLimit": 10000
     },
     "inputWidgets": {},
     "nuid": "14f978b8-7565-45d3-a4cf-0af25c6e47cd",
     "showTitle": false,
     "title": ""
    },
    "deletable": false,
    "editable": false,
    "nbgrader": {
     "cell_type": "code",
     "checksum": "93ebd38f5b390fbfbd89be06a50c6282",
     "grade": true,
     "grade_id": "tiempos_medios_test",
     "locked": true,
     "points": 3,
     "schema_version": 3,
     "solution": false,
     "task": false
    }
   },
   "outputs": [],
   "source": [
    "r1 = kivaAgrupadoDF.head()\n",
    "assert(r1.country == \"United States\")\n",
    "assert((r1.Agricultura - 12.0 < 0.01) | (r1.Agricultura - 12.17 < 0.01))\n",
    "assert((r1.Educacion - 15.21 < 0.01) | (r1.Educacion - 15.33 < 0.01))\n",
    "assert(r1.Wholesale - 27.5 < 0.01)\n",
    "assert((r1.transcurrido_global - 20.94 < 0.01) | (r1.transcurrido_global - 21.04 < 0.01))"
   ]
  },
  {
   "cell_type": "markdown",
   "metadata": {
    "application/vnd.databricks.v1+cell": {
     "cellMetadata": {
      "byteLimit": 2048000,
      "rowLimit": 10000
     },
     "inputWidgets": {},
     "nuid": "4694931b-69cb-459f-bb57-4cbdad45bc61",
     "showTitle": false,
     "title": ""
    },
    "deletable": false,
    "editable": false,
    "nbgrader": {
     "cell_type": "markdown",
     "checksum": "31924076e8ce9e4467959d6eef2edcc4",
     "grade": false,
     "grade_id": "cell-c5ec05706eccd480",
     "locked": true,
     "schema_version": 3,
     "solution": false,
     "task": false
    }
   },
   "source": [
    "**(3 puntos)** Ejercicio 5\n",
    "\n",
    "Partiendo de nuevo de `kivaTiemposDF`, añadir las siguientes columnas:\n",
    "\n",
    "* Primero, tres columnas adicionales llamadas `transc_medio`, `transc_min`, `transc_max` que contengan, respectivamente, **el número de días medio, mínimo y máximo transcurrido para proyectos de ese mismo país y ese mismo sector** entre la fecha en que se postea la necesidad de préstamo y la fecha en la que alguien acepta financiarlo (es decir, la columna `dias_aceptacion` calculada antes y utilizada también en la celda anterior). Es decir, queremos una columna extra para que podamos tener, junto a cada préstamo, información agregada de los préstamos similares, entendidos como aquellos del mismo país y del mismo sector. **No se debe utilizar JOIN sino solo funciones de ventana**.\n",
    "* Finalmente, crear otra columna adicional `diff_dias` que contenga la **diferencia en días entre los días que transcurrieron en este proyecto y la media de días de los proyectos similares** (calculada en el apartado anterior). Debería ser lo primero menos lo segundo, de forma que un número positivo indica que este préstamo tardó más días en ser aceptado que la media de días de este país y sector, y un número negativo indica lo contrario. El resultado debe obtenerse aplicando operaciones aritméticas con columnas existentes, **sin utilizar `when`**.\n",
    "* El DF resultante con las 4 columnas nuevas que hemos añadido debe quedar almacenado en la variable `kivaExtraInfoDF`."
   ]
  },
  {
   "cell_type": "code",
   "execution_count": 0,
   "metadata": {
    "application/vnd.databricks.v1+cell": {
     "cellMetadata": {
      "byteLimit": 2048000,
      "rowLimit": 10000
     },
     "inputWidgets": {},
     "nuid": "60c78c5c-e191-42c0-8d48-7b5ed08f59fd",
     "showTitle": false,
     "title": ""
    },
    "deletable": false,
    "nbgrader": {
     "cell_type": "code",
     "checksum": "7781e45de12eaece0b66e4eb898e2b0b",
     "grade": false,
     "grade_id": "ventana",
     "locked": false,
     "schema_version": 3,
     "solution": true,
     "task": false
    }
   },
   "outputs": [
    {
     "output_type": "display_data",
     "data": {
      "text/html": [
       "<style scoped>\n",
       "  .table-result-container {\n",
       "    max-height: 300px;\n",
       "    overflow: auto;\n",
       "  }\n",
       "  table, th, td {\n",
       "    border: 1px solid black;\n",
       "    border-collapse: collapse;\n",
       "  }\n",
       "  th, td {\n",
       "    padding: 5px;\n",
       "  }\n",
       "  th {\n",
       "    text-align: left;\n",
       "  }\n",
       "</style><div class='table-result-container'><table class='table-result'><thead style='background-color: white'><tr><th>id</th><th>funded_amount</th><th>loan_amount</th><th>activity</th><th>sector</th><th>use</th><th>country_code</th><th>country</th><th>region</th><th>currency</th><th>partner_id</th><th>posted_time</th><th>disbursed_time</th><th>funded_time</th><th>term_in_months</th><th>lender_count</th><th>tags</th><th>borrower_genders</th><th>repayment_interval</th><th>date</th><th>dias_desembolso</th><th>dias_aceptacion</th><th>transc_medio</th><th>transc_min</th><th>transc_max</th><th>diff_dias</th></tr></thead><tbody><tr><td>805613</td><td>6000.0</td><td>6000.0</td><td>Textiles</td><td>Arts</td><td>To buy 9 sewing machines that will increase productivity and to provide safer transportation to the female workers.</td><td>AF</td><td>Afghanistan</td><td>Kandahar City</td><td>USD</td><td>412.0</td><td>2014-11-26T00:51:29Z</td><td>2015-01-07T08:00:00Z</td><td>2014-11-26T20:07:08Z</td><td>8</td><td>204</td><td>user_favorite, user_favorite, #Biz Durable Asset, #Woman Owned Biz, user_favorite, user_favorite, user_favorite, #Fabrics, #Hidden Gem, #Interesting Photo, #Inspiring Story, #Post-disbursed, user_favorite, user_favorite</td><td>female</td><td>bullet</td><td>2014-11-26</td><td>42</td><td>0</td><td>0.5</td><td>0</td><td>1</td><td>-0.5</td></tr><tr><td>1023542</td><td>8000.0</td><td>8000.0</td><td>Textiles</td><td>Arts</td><td>To purchase raw materials, including fabrics, threads, and other embroidery supplies, to finish preparing for the Santa Fe Folk Art Market in July 2016</td><td>AF</td><td>Afghanistan</td><td>Kandahar City</td><td>USD</td><td>412.0</td><td>2016-02-16T15:15:51Z</td><td>2016-04-05T07:00:00Z</td><td>2016-02-17T05:25:42Z</td><td>6</td><td>308</td><td>#Fabrics, user_favorite, user_favorite, #Unique, #Woman Owned Biz, #Repeat Borrower, #Inspiring Story, user_favorite, user_favorite, user_favorite, user_favorite, user_favorite, #Job Creator, user_favorite, user_favorite, user_favorite, user_favorite, user_favorite, user_favorite, user_favorite</td><td>female</td><td>bullet</td><td>2016-02-16</td><td>48</td><td>1</td><td>0.5</td><td>0</td><td>1</td><td>0.5</td></tr><tr><td>662240</td><td>1475.0</td><td>1475.0</td><td>Cafe</td><td>Food</td><td>to buy equipment for her bar-cafe.</td><td>AL</td><td>Albania</td><td>Elbasan</td><td>ALL</td><td>239.0</td><td>2014-01-27T10:26:03Z</td><td>2014-01-24T08:00:00Z</td><td>2014-01-29T17:01:30Z</td><td>26</td><td>55</td><td>volunteer_like, #Health and Sanitation, #Supporting Family, #Woman Owned Biz</td><td>female</td><td>monthly</td><td>2014-01-27</td><td>-5</td><td>2</td><td>21.865384615384617</td><td>2</td><td>44</td><td>-19.865384615384617</td></tr><tr><td>666820</td><td>2900.0</td><td>2900.0</td><td>Bakery</td><td>Food</td><td>to build an additional space in her bakery to sell groceries</td><td>AL</td><td>Albania</td><td>Korce</td><td>ALL</td><td>239.0</td><td>2014-02-07T11:32:56Z</td><td>2014-02-05T08:00:00Z</td><td>2014-02-17T17:57:30Z</td><td>26</td><td>112</td><td>user_favorite, user_favorite</td><td>female</td><td>monthly</td><td>2014-02-07</td><td>-12</td><td>10</td><td>21.865384615384617</td><td>2</td><td>44</td><td>-11.865384615384617</td></tr><tr><td>674498</td><td>1975.0</td><td>1975.0</td><td>Grocery Store</td><td>Food</td><td>to add to her grocery store a refrigerator and counters</td><td>AL</td><td>Albania</td><td>Korce</td><td>ALL</td><td>239.0</td><td>2014-02-21T11:32:34Z</td><td>2014-02-17T08:00:00Z</td><td>2014-02-26T19:21:25Z</td><td>32</td><td>74</td><td>null</td><td>female</td><td>monthly</td><td>2014-02-21</td><td>-9</td><td>5</td><td>21.865384615384617</td><td>2</td><td>44</td><td>-16.865384615384617</td></tr><tr><td>702586</td><td>1000.0</td><td>1000.0</td><td>Food Market</td><td>Food</td><td>to buy kitchen supplies and ware.</td><td>AL</td><td>Albania</td><td>Lezhe</td><td>ALL</td><td>239.0</td><td>2014-04-25T11:17:25Z</td><td>2014-04-24T07:00:00Z</td><td>2014-05-17T22:32:13Z</td><td>20</td><td>36</td><td>volunteer_pick, volunteer_like, user_favorite, user_favorite</td><td>female</td><td>monthly</td><td>2014-04-25</td><td>-23</td><td>22</td><td>21.865384615384617</td><td>2</td><td>44</td><td>0.13461538461538325</td></tr><tr><td>706185</td><td>1500.0</td><td>1500.0</td><td>Grocery Store</td><td>Food</td><td>to buy shelves and inventory for her store.</td><td>AL</td><td>Albania</td><td>Korce</td><td>ALL</td><td>239.0</td><td>2014-05-06T10:41:36Z</td><td>2014-04-30T07:00:00Z</td><td>2014-05-15T23:45:17Z</td><td>21</td><td>47</td><td>#Interesting Photo, #Tourism, #Woman Owned Biz</td><td>female</td><td>monthly</td><td>2014-05-06</td><td>-15</td><td>9</td><td>21.865384615384617</td><td>2</td><td>44</td><td>-12.865384615384617</td></tr><tr><td>709239</td><td>1000.0</td><td>1000.0</td><td>Grocery Store</td><td>Food</td><td>to buy inventory for her grocery store.</td><td>AL</td><td>Albania</td><td>Korce</td><td>ALL</td><td>239.0</td><td>2014-05-13T08:34:54Z</td><td>2014-05-08T07:00:00Z</td><td>2014-05-19T19:17:41Z</td><td>26</td><td>36</td><td>null</td><td>female</td><td>monthly</td><td>2014-05-13</td><td>-11</td><td>6</td><td>21.865384615384617</td><td>2</td><td>44</td><td>-15.865384615384617</td></tr><tr><td>715980</td><td>2450.0</td><td>2450.0</td><td>Grocery Store</td><td>Food</td><td>to finish the grocery store he has started building</td><td>AL</td><td>Albania</td><td>Korce</td><td>ALL</td><td>239.0</td><td>2014-05-26T09:55:30Z</td><td>2014-05-20T07:00:00Z</td><td>2014-06-28T17:55:15Z</td><td>20</td><td>92</td><td>#Parent, #Biz Durable Asset, user_favorite</td><td>male</td><td>monthly</td><td>2014-05-26</td><td>-39</td><td>33</td><td>21.865384615384617</td><td>2</td><td>44</td><td>11.134615384615383</td></tr><tr><td>719122</td><td>1475.0</td><td>1475.0</td><td>Grocery Store</td><td>Food</td><td> who was born deaf and mute, to stock up on inventory items for her little village grocery store.</td><td>AL</td><td>Albania</td><td>Korce</td><td>ALL</td><td>239.0</td><td>2014-06-02T09:38:17Z</td><td>2014-05-29T07:00:00Z</td><td>2014-06-10T14:06:36Z</td><td>20</td><td>52</td><td>user_favorite, #Parent, #Widowed, #Woman Owned Biz, user_favorite</td><td>female</td><td>monthly</td><td>2014-06-02</td><td>-12</td><td>8</td><td>21.865384615384617</td><td>2</td><td>44</td><td>-13.865384615384617</td></tr></tbody></table></div>"
      ]
     },
     "metadata": {
      "application/vnd.databricks.v1+output": {
       "addedWidgets": {},
       "aggData": [],
       "aggError": "",
       "aggOverflow": false,
       "aggSchema": [],
       "aggSeriesLimitReached": false,
       "aggType": "",
       "arguments": {},
       "columnCustomDisplayInfos": {},
       "data": [
        [
         "805613",
         "6000.0",
         6000.0,
         "Textiles",
         "Arts",
         "To buy 9 sewing machines that will increase productivity and to provide safer transportation to the female workers.",
         "AF",
         "Afghanistan",
         "Kandahar City",
         "USD",
         "412.0",
         "2014-11-26T00:51:29Z",
         "2015-01-07T08:00:00Z",
         "2014-11-26T20:07:08Z",
         8,
         "204",
         "user_favorite, user_favorite, #Biz Durable Asset, #Woman Owned Biz, user_favorite, user_favorite, user_favorite, #Fabrics, #Hidden Gem, #Interesting Photo, #Inspiring Story, #Post-disbursed, user_favorite, user_favorite",
         "female",
         "bullet",
         "2014-11-26",
         42,
         0,
         0.5,
         0,
         1,
         -0.5
        ],
        [
         "1023542",
         "8000.0",
         8000.0,
         "Textiles",
         "Arts",
         "To purchase raw materials, including fabrics, threads, and other embroidery supplies, to finish preparing for the Santa Fe Folk Art Market in July 2016",
         "AF",
         "Afghanistan",
         "Kandahar City",
         "USD",
         "412.0",
         "2016-02-16T15:15:51Z",
         "2016-04-05T07:00:00Z",
         "2016-02-17T05:25:42Z",
         6,
         "308",
         "#Fabrics, user_favorite, user_favorite, #Unique, #Woman Owned Biz, #Repeat Borrower, #Inspiring Story, user_favorite, user_favorite, user_favorite, user_favorite, user_favorite, #Job Creator, user_favorite, user_favorite, user_favorite, user_favorite, user_favorite, user_favorite, user_favorite",
         "female",
         "bullet",
         "2016-02-16",
         48,
         1,
         0.5,
         0,
         1,
         0.5
        ],
        [
         "662240",
         "1475.0",
         1475.0,
         "Cafe",
         "Food",
         "to buy equipment for her bar-cafe.",
         "AL",
         "Albania",
         "Elbasan",
         "ALL",
         "239.0",
         "2014-01-27T10:26:03Z",
         "2014-01-24T08:00:00Z",
         "2014-01-29T17:01:30Z",
         26,
         "55",
         "volunteer_like, #Health and Sanitation, #Supporting Family, #Woman Owned Biz",
         "female",
         "monthly",
         "2014-01-27",
         -5,
         2,
         21.865384615384617,
         2,
         44,
         -19.865384615384617
        ],
        [
         "666820",
         "2900.0",
         2900.0,
         "Bakery",
         "Food",
         "to build an additional space in her bakery to sell groceries",
         "AL",
         "Albania",
         "Korce",
         "ALL",
         "239.0",
         "2014-02-07T11:32:56Z",
         "2014-02-05T08:00:00Z",
         "2014-02-17T17:57:30Z",
         26,
         "112",
         "user_favorite, user_favorite",
         "female",
         "monthly",
         "2014-02-07",
         -12,
         10,
         21.865384615384617,
         2,
         44,
         -11.865384615384617
        ],
        [
         "674498",
         "1975.0",
         1975.0,
         "Grocery Store",
         "Food",
         "to add to her grocery store a refrigerator and counters",
         "AL",
         "Albania",
         "Korce",
         "ALL",
         "239.0",
         "2014-02-21T11:32:34Z",
         "2014-02-17T08:00:00Z",
         "2014-02-26T19:21:25Z",
         32,
         "74",
         null,
         "female",
         "monthly",
         "2014-02-21",
         -9,
         5,
         21.865384615384617,
         2,
         44,
         -16.865384615384617
        ],
        [
         "702586",
         "1000.0",
         1000.0,
         "Food Market",
         "Food",
         "to buy kitchen supplies and ware.",
         "AL",
         "Albania",
         "Lezhe",
         "ALL",
         "239.0",
         "2014-04-25T11:17:25Z",
         "2014-04-24T07:00:00Z",
         "2014-05-17T22:32:13Z",
         20,
         "36",
         "volunteer_pick, volunteer_like, user_favorite, user_favorite",
         "female",
         "monthly",
         "2014-04-25",
         -23,
         22,
         21.865384615384617,
         2,
         44,
         0.13461538461538325
        ],
        [
         "706185",
         "1500.0",
         1500.0,
         "Grocery Store",
         "Food",
         "to buy shelves and inventory for her store.",
         "AL",
         "Albania",
         "Korce",
         "ALL",
         "239.0",
         "2014-05-06T10:41:36Z",
         "2014-04-30T07:00:00Z",
         "2014-05-15T23:45:17Z",
         21,
         "47",
         "#Interesting Photo, #Tourism, #Woman Owned Biz",
         "female",
         "monthly",
         "2014-05-06",
         -15,
         9,
         21.865384615384617,
         2,
         44,
         -12.865384615384617
        ],
        [
         "709239",
         "1000.0",
         1000.0,
         "Grocery Store",
         "Food",
         "to buy inventory for her grocery store.",
         "AL",
         "Albania",
         "Korce",
         "ALL",
         "239.0",
         "2014-05-13T08:34:54Z",
         "2014-05-08T07:00:00Z",
         "2014-05-19T19:17:41Z",
         26,
         "36",
         null,
         "female",
         "monthly",
         "2014-05-13",
         -11,
         6,
         21.865384615384617,
         2,
         44,
         -15.865384615384617
        ],
        [
         "715980",
         "2450.0",
         2450.0,
         "Grocery Store",
         "Food",
         "to finish the grocery store he has started building",
         "AL",
         "Albania",
         "Korce",
         "ALL",
         "239.0",
         "2014-05-26T09:55:30Z",
         "2014-05-20T07:00:00Z",
         "2014-06-28T17:55:15Z",
         20,
         "92",
         "#Parent, #Biz Durable Asset, user_favorite",
         "male",
         "monthly",
         "2014-05-26",
         -39,
         33,
         21.865384615384617,
         2,
         44,
         11.134615384615383
        ],
        [
         "719122",
         "1475.0",
         1475.0,
         "Grocery Store",
         "Food",
         " who was born deaf and mute, to stock up on inventory items for her little village grocery store.",
         "AL",
         "Albania",
         "Korce",
         "ALL",
         "239.0",
         "2014-06-02T09:38:17Z",
         "2014-05-29T07:00:00Z",
         "2014-06-10T14:06:36Z",
         20,
         "52",
         "user_favorite, #Parent, #Widowed, #Woman Owned Biz, user_favorite",
         "female",
         "monthly",
         "2014-06-02",
         -12,
         8,
         21.865384615384617,
         2,
         44,
         -13.865384615384617
        ]
       ],
       "datasetInfos": [],
       "dbfsResultPath": null,
       "isJsonSchema": true,
       "metadata": {},
       "overflow": false,
       "plotOptions": {
        "customPlotOptions": {},
        "displayType": "table",
        "pivotAggregation": null,
        "pivotColumns": null,
        "xColumns": null,
        "yColumns": null
       },
       "removedWidgets": [],
       "schema": [
        {
         "metadata": "{}",
         "name": "id",
         "type": "\"string\""
        },
        {
         "metadata": "{}",
         "name": "funded_amount",
         "type": "\"string\""
        },
        {
         "metadata": "{}",
         "name": "loan_amount",
         "type": "\"double\""
        },
        {
         "metadata": "{}",
         "name": "activity",
         "type": "\"string\""
        },
        {
         "metadata": "{}",
         "name": "sector",
         "type": "\"string\""
        },
        {
         "metadata": "{}",
         "name": "use",
         "type": "\"string\""
        },
        {
         "metadata": "{}",
         "name": "country_code",
         "type": "\"string\""
        },
        {
         "metadata": "{}",
         "name": "country",
         "type": "\"string\""
        },
        {
         "metadata": "{}",
         "name": "region",
         "type": "\"string\""
        },
        {
         "metadata": "{}",
         "name": "currency",
         "type": "\"string\""
        },
        {
         "metadata": "{}",
         "name": "partner_id",
         "type": "\"string\""
        },
        {
         "metadata": "{}",
         "name": "posted_time",
         "type": "\"timestamp\""
        },
        {
         "metadata": "{}",
         "name": "disbursed_time",
         "type": "\"timestamp\""
        },
        {
         "metadata": "{}",
         "name": "funded_time",
         "type": "\"timestamp\""
        },
        {
         "metadata": "{}",
         "name": "term_in_months",
         "type": "\"integer\""
        },
        {
         "metadata": "{}",
         "name": "lender_count",
         "type": "\"string\""
        },
        {
         "metadata": "{}",
         "name": "tags",
         "type": "\"string\""
        },
        {
         "metadata": "{}",
         "name": "borrower_genders",
         "type": "\"string\""
        },
        {
         "metadata": "{}",
         "name": "repayment_interval",
         "type": "\"string\""
        },
        {
         "metadata": "{}",
         "name": "date",
         "type": "\"string\""
        },
        {
         "metadata": "{}",
         "name": "dias_desembolso",
         "type": "\"integer\""
        },
        {
         "metadata": "{}",
         "name": "dias_aceptacion",
         "type": "\"integer\""
        },
        {
         "metadata": "{}",
         "name": "transc_medio",
         "type": "\"double\""
        },
        {
         "metadata": "{}",
         "name": "transc_min",
         "type": "\"integer\""
        },
        {
         "metadata": "{}",
         "name": "transc_max",
         "type": "\"integer\""
        },
        {
         "metadata": "{}",
         "name": "diff_dias",
         "type": "\"double\""
        }
       ],
       "type": "table"
      }
     },
     "output_type": "display_data"
    }
   ],
   "source": [
    "# LÍNEA EVALUABLE, NO RENOMBRAR VARIABLES\n",
    "# imports necesarios\n",
    "from pyspark.sql import Window\n",
    "# YOUR CODE HERE\n",
    "windowPaisSector = Window().partitionBy(\"country\",\"sector\")\n",
    "kivaExtraInfoDF = kivaTiemposDF.withColumn(\"transc_medio\",\n",
    "                                            F.mean(\"dias_aceptacion\").over(windowPaisSector))\\\n",
    "                               .withColumn(\"transc_min\",\n",
    "                                           F.min(\"dias_aceptacion\").over(windowPaisSector))\\\n",
    "                                .withColumn(\"transc_max\",\n",
    "                                            F.max(\"dias_aceptacion\").over(windowPaisSector))\\\n",
    "                                .withColumn(\"diff_dias\",\n",
    "                                            F.col(\"dias_aceptacion\")-F.col(\"transc_medio\") )\n",
    "kivaExtraInfoDF.limit(10).display()\n",
    "\n"
   ]
  },
  {
   "cell_type": "code",
   "execution_count": 0,
   "metadata": {
    "application/vnd.databricks.v1+cell": {
     "cellMetadata": {
      "byteLimit": 2048000,
      "rowLimit": 10000
     },
     "inputWidgets": {},
     "nuid": "adbee241-c789-45b2-acad-9e2c31aa811f",
     "showTitle": false,
     "title": ""
    },
    "deletable": false,
    "editable": false,
    "nbgrader": {
     "cell_type": "code",
     "checksum": "844f128aa6e789cd3660a00ab0159b56",
     "grade": true,
     "grade_id": "ventana_test",
     "locked": true,
     "points": 3,
     "schema_version": 3,
     "solution": false,
     "task": false
    }
   },
   "outputs": [],
   "source": [
    "r = kivaExtraInfoDF.where(\"id = '658540'\").head()\n",
    "assert(r.country == 'Burkina Faso')\n",
    "assert(r.transc_medio - 11.02 < 0.05)\n",
    "assert(r.dias_aceptacion == 35)\n",
    "assert(r.diff_dias - 24.0 < 0.001)"
   ]
  }
 ],
 "metadata": {
  "application/vnd.databricks.v1+notebook": {
   "dashboards": [],
   "environmentMetadata": null,
   "language": "python",
   "notebookMetadata": {
    "pythonIndentUnit": 4
   },
   "notebookName": "Spark_m4",
   "widgets": {}
  },
  "kernelspec": {
   "display_name": "Python 3 (ipykernel)",
   "language": "python",
   "name": "python3"
  },
  "language_info": {
   "codemirror_mode": {
    "name": "ipython",
    "version": 3
   },
   "file_extension": ".py",
   "mimetype": "text/x-python",
   "name": "python",
   "nbconvert_exporter": "python",
   "pygments_lexer": "ipython3",
   "version": "3.8.16"
  }
 },
 "nbformat": 4,
 "nbformat_minor": 0
}
